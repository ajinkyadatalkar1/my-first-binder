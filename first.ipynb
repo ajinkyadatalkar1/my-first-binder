{"metadata":{"language_info":{"name":"python","version":"3.10.11","mimetype":"text/x-python","codemirror_mode":{"name":"ipython","version":3},"pygments_lexer":"ipython3","nbconvert_exporter":"python","file_extension":".py"},"kernelspec":{"name":"python3","display_name":"Python 
3 (ipykernel)","language":"python"}},"nbformat_minor":5,"nbformat":4,"cells":[{"cell_type":"code","source":"import 
numpy\nprint(numpy.__version__)\nnumpy.random.randn()","metadata":{},"execution_count":null,"outputs":[],"id":"0738262b-7fac-4651-858b-7d65ed642a10"}]}
